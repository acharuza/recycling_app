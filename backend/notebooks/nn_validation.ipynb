version https://git-lfs.github.com/spec/v1
oid sha256:0eb4636e7379080902a30cca36e4bc7c2f347beda1e026520fefc6a0aa8ad880
size 107939184
