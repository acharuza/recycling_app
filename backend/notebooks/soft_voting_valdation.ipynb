{
 "cells": [
  {
   "cell_type": "code",
   "execution_count": 1,
   "metadata": {},
   "outputs": [],
   "source": [
    "import torch\n",
    "import os\n",
    "from sklearn.metrics import (\n",
    "    classification_report,\n",
    "    accuracy_score,\n",
    "    roc_curve,\n",
    "    auc,\n",
    "    confusion_matrix,\n",
    ")\n",
    "from torchvision import datasets\n",
    "import matplotlib.pyplot as plt\n",
    "import numpy as np\n",
    "import seaborn as sns\n",
    "from recycling_app.preprocessing.loading_data import _split_train_val_test, _calculate_sizes\n",
    "from recycling_app.model.soft_voting import SoftVoting"
   ]
  },
  {
   "cell_type": "code",
   "execution_count": 2,
   "metadata": {},
   "outputs": [],
   "source": [
    "random_seed = 125"
   ]
  },
  {
   "cell_type": "code",
   "execution_count": 3,
   "metadata": {},
   "outputs": [],
   "source": [
    "dataset_path = os.path.join(os.path.dirname(os.getcwd()), \"data\", \"raw\")\n",
    "dataset = datasets.ImageFolder(dataset_path)\n",
    "classes = dataset.classes"
   ]
  },
  {
   "cell_type": "code",
   "execution_count": 4,
   "metadata": {},
   "outputs": [
    {
     "data": {
      "text/plain": [
       "'c:\\\\Users\\\\alicj\\\\Desktop\\\\praca_inz\\\\recycling_app\\\\backend\\\\data\\\\features'"
      ]
     },
     "execution_count": 4,
     "metadata": {},
     "output_type": "execute_result"
    }
   ],
   "source": [
    "features_path = os.path.join(os.path.dirname(os.getcwd()), \"data\", \"features\")\n",
    "features_path"
   ]
  },
  {
   "cell_type": "code",
   "execution_count": 5,
   "metadata": {},
   "outputs": [
    {
     "name": "stderr",
     "output_type": "stream",
     "text": [
      "C:\\Users\\alicj\\AppData\\Local\\Temp\\ipykernel_8472\\4107020394.py:1: FutureWarning: You are using `torch.load` with `weights_only=False` (the current default value), which uses the default pickle module implicitly. It is possible to construct malicious pickle data which will execute arbitrary code during unpickling (See https://github.com/pytorch/pytorch/blob/main/SECURITY.md#untrusted-models for more details). In a future release, the default value for `weights_only` will be flipped to `True`. This limits the functions that could be executed during unpickling. Arbitrary objects will no longer be allowed to be loaded via this mode unless they are explicitly allowlisted by the user via `torch.serialization.add_safe_globals`. We recommend you start setting `weights_only=True` for any use case where you don't have full control of the loaded file. Please open an issue on GitHub for any issues related to this experimental feature.\n",
      "  test_features_resnet101 = torch.load(os.path.join(features_path, 'test_features_resnet101.pt'))\n",
      "C:\\Users\\alicj\\AppData\\Local\\Temp\\ipykernel_8472\\4107020394.py:2: FutureWarning: You are using `torch.load` with `weights_only=False` (the current default value), which uses the default pickle module implicitly. It is possible to construct malicious pickle data which will execute arbitrary code during unpickling (See https://github.com/pytorch/pytorch/blob/main/SECURITY.md#untrusted-models for more details). In a future release, the default value for `weights_only` will be flipped to `True`. This limits the functions that could be executed during unpickling. Arbitrary objects will no longer be allowed to be loaded via this mode unless they are explicitly allowlisted by the user via `torch.serialization.add_safe_globals`. We recommend you start setting `weights_only=True` for any use case where you don't have full control of the loaded file. Please open an issue on GitHub for any issues related to this experimental feature.\n",
      "  test_features_resnet152 = torch.load(os.path.join(features_path, 'test_features_resnet152.pt'))\n",
      "C:\\Users\\alicj\\AppData\\Local\\Temp\\ipykernel_8472\\4107020394.py:3: FutureWarning: You are using `torch.load` with `weights_only=False` (the current default value), which uses the default pickle module implicitly. It is possible to construct malicious pickle data which will execute arbitrary code during unpickling (See https://github.com/pytorch/pytorch/blob/main/SECURITY.md#untrusted-models for more details). In a future release, the default value for `weights_only` will be flipped to `True`. This limits the functions that could be executed during unpickling. Arbitrary objects will no longer be allowed to be loaded via this mode unless they are explicitly allowlisted by the user via `torch.serialization.add_safe_globals`. We recommend you start setting `weights_only=True` for any use case where you don't have full control of the loaded file. Please open an issue on GitHub for any issues related to this experimental feature.\n",
      "  test_features_vgg19 = torch.load(os.path.join(features_path, 'test_features_vgg19.pt'))\n"
     ]
    }
   ],
   "source": [
    "test_features_resnet101 = torch.load(os.path.join(features_path, 'test_features_resnet101.pt'))\n",
    "test_features_resnet152 = torch.load(os.path.join(features_path, 'test_features_resnet152.pt'))\n",
    "test_features_vgg19 = torch.load(os.path.join(features_path, 'test_features_vgg19.pt'))"
   ]
  },
  {
   "cell_type": "code",
   "execution_count": 6,
   "metadata": {},
   "outputs": [
    {
     "name": "stderr",
     "output_type": "stream",
     "text": [
      "C:\\Users\\alicj\\AppData\\Local\\Temp\\ipykernel_8472\\3716384105.py:1: FutureWarning: You are using `torch.load` with `weights_only=False` (the current default value), which uses the default pickle module implicitly. It is possible to construct malicious pickle data which will execute arbitrary code during unpickling (See https://github.com/pytorch/pytorch/blob/main/SECURITY.md#untrusted-models for more details). In a future release, the default value for `weights_only` will be flipped to `True`. This limits the functions that could be executed during unpickling. Arbitrary objects will no longer be allowed to be loaded via this mode unless they are explicitly allowlisted by the user via `torch.serialization.add_safe_globals`. We recommend you start setting `weights_only=True` for any use case where you don't have full control of the loaded file. Please open an issue on GitHub for any issues related to this experimental feature.\n",
      "  test_labels_resnet101 = torch.load(os.path.join(features_path, 'test_labels_resnet101.pt'))\n",
      "C:\\Users\\alicj\\AppData\\Local\\Temp\\ipykernel_8472\\3716384105.py:2: FutureWarning: You are using `torch.load` with `weights_only=False` (the current default value), which uses the default pickle module implicitly. It is possible to construct malicious pickle data which will execute arbitrary code during unpickling (See https://github.com/pytorch/pytorch/blob/main/SECURITY.md#untrusted-models for more details). In a future release, the default value for `weights_only` will be flipped to `True`. This limits the functions that could be executed during unpickling. Arbitrary objects will no longer be allowed to be loaded via this mode unless they are explicitly allowlisted by the user via `torch.serialization.add_safe_globals`. We recommend you start setting `weights_only=True` for any use case where you don't have full control of the loaded file. Please open an issue on GitHub for any issues related to this experimental feature.\n",
      "  test_labels_resnet152 = torch.load(os.path.join(features_path, 'test_labels_resnet152.pt'))\n",
      "C:\\Users\\alicj\\AppData\\Local\\Temp\\ipykernel_8472\\3716384105.py:3: FutureWarning: You are using `torch.load` with `weights_only=False` (the current default value), which uses the default pickle module implicitly. It is possible to construct malicious pickle data which will execute arbitrary code during unpickling (See https://github.com/pytorch/pytorch/blob/main/SECURITY.md#untrusted-models for more details). In a future release, the default value for `weights_only` will be flipped to `True`. This limits the functions that could be executed during unpickling. Arbitrary objects will no longer be allowed to be loaded via this mode unless they are explicitly allowlisted by the user via `torch.serialization.add_safe_globals`. We recommend you start setting `weights_only=True` for any use case where you don't have full control of the loaded file. Please open an issue on GitHub for any issues related to this experimental feature.\n",
      "  test_labels_vgg19 = torch.load(os.path.join(features_path, 'test_labels_vgg19.pt'))\n"
     ]
    }
   ],
   "source": [
    "test_labels_resnet101 = torch.load(os.path.join(features_path, 'test_labels_resnet101.pt'))\n",
    "test_labels_resnet152 = torch.load(os.path.join(features_path, 'test_labels_resnet152.pt'))\n",
    "test_labels_vgg19 = torch.load(os.path.join(features_path, 'test_labels_vgg19.pt'))"
   ]
  },
  {
   "cell_type": "code",
   "execution_count": 7,
   "metadata": {},
   "outputs": [],
   "source": [
    "test_features_vgg19 = test_features_vgg19.reshape(test_features_vgg19.shape[0], -1)"
   ]
  },
  {
   "cell_type": "code",
   "execution_count": 8,
   "metadata": {},
   "outputs": [],
   "source": [
    "input = {\n",
    "    'resnet101': test_features_resnet101,\n",
    "    'resnet152': test_features_resnet152,\n",
    "    'vgg19': test_features_vgg19\n",
    "}"
   ]
  },
  {
   "cell_type": "code",
   "execution_count": 9,
   "metadata": {},
   "outputs": [
    {
     "name": "stderr",
     "output_type": "stream",
     "text": [
      "C:\\Users\\alicj\\Desktop\\praca_inz\\recycling_app\\backend\\recycling_app\\model\\soft_voting.py:7: FutureWarning: You are using `torch.load` with `weights_only=False` (the current default value), which uses the default pickle module implicitly. It is possible to construct malicious pickle data which will execute arbitrary code during unpickling (See https://github.com/pytorch/pytorch/blob/main/SECURITY.md#untrusted-models for more details). In a future release, the default value for `weights_only` will be flipped to `True`. This limits the functions that could be executed during unpickling. Arbitrary objects will no longer be allowed to be loaded via this mode unless they are explicitly allowlisted by the user via `torch.serialization.add_safe_globals`. We recommend you start setting `weights_only=True` for any use case where you don't have full control of the loaded file. Please open an issue on GitHub for any issues related to this experimental feature.\n",
      "  self.resnet101 = torch.load(os.path.join(os.path.dirname(__file__), \"nn_classifier_resnet101.pth\"))\n",
      "C:\\Users\\alicj\\Desktop\\praca_inz\\recycling_app\\backend\\recycling_app\\model\\soft_voting.py:8: FutureWarning: You are using `torch.load` with `weights_only=False` (the current default value), which uses the default pickle module implicitly. It is possible to construct malicious pickle data which will execute arbitrary code during unpickling (See https://github.com/pytorch/pytorch/blob/main/SECURITY.md#untrusted-models for more details). In a future release, the default value for `weights_only` will be flipped to `True`. This limits the functions that could be executed during unpickling. Arbitrary objects will no longer be allowed to be loaded via this mode unless they are explicitly allowlisted by the user via `torch.serialization.add_safe_globals`. We recommend you start setting `weights_only=True` for any use case where you don't have full control of the loaded file. Please open an issue on GitHub for any issues related to this experimental feature.\n",
      "  self.resnet152 = torch.load(os.path.join(os.path.dirname(__file__), \"nn_classifier_resnet152.pth\"))\n",
      "C:\\Users\\alicj\\Desktop\\praca_inz\\recycling_app\\backend\\recycling_app\\model\\soft_voting.py:9: FutureWarning: You are using `torch.load` with `weights_only=False` (the current default value), which uses the default pickle module implicitly. It is possible to construct malicious pickle data which will execute arbitrary code during unpickling (See https://github.com/pytorch/pytorch/blob/main/SECURITY.md#untrusted-models for more details). In a future release, the default value for `weights_only` will be flipped to `True`. This limits the functions that could be executed during unpickling. Arbitrary objects will no longer be allowed to be loaded via this mode unless they are explicitly allowlisted by the user via `torch.serialization.add_safe_globals`. We recommend you start setting `weights_only=True` for any use case where you don't have full control of the loaded file. Please open an issue on GitHub for any issues related to this experimental feature.\n",
      "  self.vgg19 = torch.load(os.path.join(os.path.dirname(__file__), \"nn_classifier_vgg19.pth\"))\n"
     ]
    }
   ],
   "source": [
    "soft_voting = SoftVoting()"
   ]
  },
  {
   "cell_type": "code",
   "execution_count": 10,
   "metadata": {},
   "outputs": [
    {
     "name": "stdout",
     "output_type": "stream",
     "text": [
      "               precision    recall  f1-score   support\n",
      "\n",
      "    cardboard       0.84      0.86      0.85       166\n",
      "food_organics       0.84      0.87      0.86        78\n",
      "        glass       0.95      0.83      0.88       189\n",
      "        metal       0.90      0.88      0.89       234\n",
      "        paper       0.94      0.92      0.93       208\n",
      "      plastic       0.83      0.89      0.86       281\n",
      "      textile       0.90      0.82      0.86        67\n",
      "        trash       0.73      0.78      0.75       141\n",
      "   vegetation       0.93      0.93      0.93        91\n",
      "\n",
      "     accuracy                           0.87      1455\n",
      "    macro avg       0.87      0.86      0.87      1455\n",
      " weighted avg       0.87      0.87      0.87      1455\n",
      "\n"
     ]
    }
   ],
   "source": [
    "print(classification_report(test_labels_resnet101, soft_voting.predict(input)[0], target_names=classes))"
   ]
  },
  {
   "cell_type": "code",
   "execution_count": null,
   "metadata": {},
   "outputs": [],
   "source": []
  }
 ],
 "metadata": {
  "kernelspec": {
   "display_name": "venv",
   "language": "python",
   "name": "python3"
  },
  "language_info": {
   "codemirror_mode": {
    "name": "ipython",
    "version": 3
   },
   "file_extension": ".py",
   "mimetype": "text/x-python",
   "name": "python",
   "nbconvert_exporter": "python",
   "pygments_lexer": "ipython3",
   "version": "3.12.5"
  }
 },
 "nbformat": 4,
 "nbformat_minor": 2
}
